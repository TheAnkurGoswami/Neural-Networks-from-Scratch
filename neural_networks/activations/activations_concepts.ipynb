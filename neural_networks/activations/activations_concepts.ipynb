{
 "cells": [
  {
   "cell_type": "markdown",
   "metadata": {},
   "source": [
    "# Activation Functions Concepts\n",
    "\n",
    "This notebook provides an overview of the activation functions implemented in this module, including their forward and backward pass formulas."
   ]
  },
  {
   "cell_type": "markdown",
   "metadata": {},
   "source": [
    "## Identity"
   ]
  },
  {
   "cell_type": "markdown",
   "metadata": {},
   "source": [
    "### Forward Pass\n",
    "The output is the same as the input, $x$.\n",
    "$$ \n",
    "\\text{Identity}(x) = x\n",
    "$$"
   ]
  },
  {
   "cell_type": "markdown",
   "metadata": {},
   "source": [
    "### Backward Pass\n",
    "The derivative of the Identity function with respect to $x$ is always 1.\n",
    "$$ \n",
    "\\frac{d}{dx} \\text{Identity}(x) = 1\n",
    "$$"
   ]
  },
  {
   "cell_type": "markdown",
   "metadata": {},
   "source": [
    "## ReLU (Rectified Linear Unit)"
   ]
  },
  {
   "cell_type": "markdown",
   "metadata": {},
   "source": [
    "### Forward Pass\n",
    "The ReLU function is defined as:\n",
    "$$ \n",
    "\\text{ReLU}(x) = \\max(0, x) \n",
    "$$ \n",
    "Where $x$ is the input."
   ]
  },
  {
   "cell_type": "markdown",
   "metadata": {},
   "source": [
    "### Backward Pass\n",
    "The derivative of ReLU, $\\text{ReLU}'(x)$, is:\n",
    "$$ \n",
    "\\text{ReLU}'(x) = \\begin{cases} 1 & \\text{if } x > 0 \\\\ 0 & \\text{if } x \\leq 0 \\end{cases} \n",
    "$$"
   ]
  },
  {
   "cell_type": "markdown",
   "metadata": {},
   "source": [
    "## Sigmoid"
   ]
  },
  {
   "cell_type": "markdown",
   "metadata": {},
   "source": [
    "### Forward Pass\n",
    "The sigmoid function, $\\sigma(x)$, is defined as:\n",
    "$$ \n",
    "\\sigma(x) = \\frac{1}{1 + e^{-x}} \n",
    "$$ \n",
    "Where $x$ is the input."
   ]
  },
  {
   "cell_type": "markdown",
   "metadata": {},
   "source": [
    "### Backward Pass\n",
    "The derivative, $\\sigma'(x)$, is calculated using the formula:\n",
    "$$ \n",
    "\\sigma'(x) = \\sigma(x) (1 - \\sigma(x)) \n",
    "$$ \n",
    "where $\\sigma(x)$ is the activation value from the forward pass."
   ]
  },
  {
   "cell_type": "markdown",
   "metadata": {},
   "source": [
    "## Softmax"
   ]
  },
  {
   "cell_type": "markdown",
   "metadata": {},
   "source": [
    "### Forward Pass\n",
    "The Softmax function for an input vector $x$ with elements $x_i$ is defined as:\n",
    "$$ \n",
    "\\text{Softmax}(x_i) = \\frac{e^{x_i - \\max(x)}}{\\sum_{j} e^{x_j - \\max(x)}} \n",
    "$$ \n",
    "Subtracting $\\max(x)$ from $x$ improves numerical stability without changing the output."
   ]
  },
  {
   "cell_type": "markdown",
   "metadata": {},
   "source": [
    "### Backward Pass\n",
    "Given the gradient of the loss $L$ w.r.t the Softmax output $a$ (denoted as $dA = \\frac{\\partial L}{\\partial a}$), this computes the gradient of the loss w.r.t the Softmax input $z$ (denoted as $dZ = \\frac{\\partial L}{\\partial z}$). The calculation for each component $dZ_k$ can be simplified to:\n",
    "$$ \n",
    "dZ_k = a_k \\left( dA_k - \\sum_j dA_j \\cdot a_j \\right) \n",
    "$$ \n",
    "So, $dZ = \\text{act} \\odot (dA - \\text{sum}(dA \\odot \\text{act}, \\text{dim}, \\text{keepdim=True}))$, where `act` represents the activation output $a_k$, $dA$ represents $dA_k$, and $\\odot$ is element-wise multiplication.\n",
    "\n",
    "*Note: Softmax also has a `derivative` method that computes the Jacobian matrix $J$ with elements $J_{ij}$:*\n",
    "$$ \n",
    "J_{ij} = \\begin{cases} a_i (1 - a_i) & \\text{if } i = j \\\\ -a_i a_j & \\text{if } i \\neq j \\end{cases} \n",
    "$$ \n",
    "Where $a_i$ is $\\text{Softmax}(z_i)$."
   ]
  },
  {
   "cell_type": "markdown",
   "metadata": {},
   "source": [
    "## Tanh (Hyperbolic Tangent)"
   ]
  },
  {
   "cell_type": "markdown",
   "metadata": {},
   "source": [
    "### Forward Pass\n",
    "The tanh activation function is defined as:\n",
    "$$ \n",
    "\\text{tanh}(x) = \\frac{e^x - e^{-x}}{e^x + e^{-x}} \n",
    "$$ \n",
    "Where $x$ is the input."
   ]
  },
  {
   "cell_type": "markdown",
   "metadata": {},
   "source": [
    "### Backward Pass\n",
    "The derivative, $\\text{tanh}'(x)$, is calculated using the formula:\n",
    "$$ \n",
    "\\text{tanh}'(x) = 1 - \\text{tanh}^2(x) \n",
    "$$ \n",
    "where $\\text{tanh}(x)$ is the activation value from the forward pass."
   ]
  }
 ],
 "metadata": {
  "kernelspec": {
   "display_name": "Python 3",
   "language": "python",
   "name": "python3"
  },
  "language_info": {
   "codemirror_mode": {
    "name": "ipython",
    "version": 3
   },
   "file_extension": ".py",
   "mimetype": "text/x-python",
   "name": "python",
   "nbconvert_exporter": "python",
   "pygments_lexer": "ipython3",
   "version": "3.10.11"
  }
 },
 "nbformat": 4,
 "nbformat_minor": 5
}
