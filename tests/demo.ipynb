{
 "cells": [
  {
   "cell_type": "markdown",
   "metadata": {
    "vscode": {
     "languageId": "markdown"
    }
   },
   "source": [
    "# Neural Network Functions Documentation\n",
    "\n",
    "## Forward Propagation\n",
    "\n",
    "### Activation Functions\n",
    "\n",
    "#### ReLU\n",
    "$f(x) = \\max(0, x)$\n",
    "\n",
    "#### Sigmoid\n",
    "$f(x) = \\frac{1}{1 + e^{-x}}$\n",
    "\n",
    "#### Tanh\n",
    "$f(x) = \\tanh(x) = \\frac{e^x - e^{-x}}{e^x + e^{-x}}$\n",
    "\n",
    "### Linear Layer\n",
    "$y = Wx + b$\n",
    "\n",
    "Where:\n",
    "- $W$ is the weight matrix\n",
    "- $x$ is the input\n",
    "- $b$ is the bias vector\n",
    "\n",
    "## Backward Propagation\n",
    "\n",
    "### Activation Functions Derivatives\n",
    "\n",
    "#### ReLU\n",
    "$f'(x) = \\begin{cases} 1 & \\text{if } x > 0 \\\\ 0 & \\text{if } x \\leq 0 \\end{cases}$\n",
    "\n",
    "#### Sigmoid\n",
    "$f'(x) = f(x)(1-f(x))$\n",
    "\n",
    "#### Tanh\n",
    "$f'(x) = 1 - \\tanh^2(x)$\n",
    "\n",
    "### Linear Layer\n",
    "$\\frac{\\partial L}{\\partial W} = \\frac{\\partial L}{\\partial y} x^T$\n",
    "\n",
    "$\\frac{\\partial L}{\\partial b} = \\frac{\\partial L}{\\partial y}$\n",
    "\n",
    "$\\frac{\\partial L}{\\partial x} = W^T \\frac{\\partial L}{\\partial y}$\n",
    "\n",
    "Where:\n",
    "- $L$ is the loss function\n",
    "- $\\frac{\\partial L}{\\partial y}$ is the gradient from the next layer"
   ]
  },
  {
   "cell_type": "markdown",
   "metadata": {},
   "source": []
  }
 ],
 "metadata": {
  "kernelspec": {
   "display_name": "nn_from_scratch",
   "language": "python",
   "name": "python3"
  },
  "language_info": {
   "codemirror_mode": {
    "name": "ipython",
    "version": 3
   },
   "file_extension": ".py",
   "mimetype": "text/x-python",
   "name": "python",
   "nbconvert_exporter": "python",
   "pygments_lexer": "ipython3",
   "version": "3.11.11"
  }
 },
 "nbformat": 4,
 "nbformat_minor": 2
}
